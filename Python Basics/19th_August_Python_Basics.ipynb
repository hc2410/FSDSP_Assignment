{
 "cells": [
  {
   "cell_type": "code",
   "execution_count": 1,
   "id": "eb0c29c4-3672-4619-9509-c8184a54c86f",
   "metadata": {},
   "outputs": [
    {
     "name": "stdout",
     "output_type": "stream",
     "text": [
      "x = 30\n",
      "y = 20\n"
     ]
    }
   ],
   "source": [
    "# TOPIC: Python Basics Variable\n",
    "\n",
    "''' 1. Declare two variables, `x` and `y`, and assign them integer values.\n",
    "Swap the values of these variables without using any temporary variable.'''\n",
    "x = 20\n",
    "y = 30\n",
    "\n",
    "x = x + y\n",
    "y = x - y\n",
    "x = x - y\n",
    "\n",
    "print(\"x =\",x)\n",
    "print(\"y =\",y)"
   ]
  },
  {
   "cell_type": "code",
   "execution_count": 2,
   "id": "d8dcf93f-0a29-4f46-ae99-a3b21e0ca0c7",
   "metadata": {},
   "outputs": [
    {
     "name": "stdout",
     "output_type": "stream",
     "text": [
      "Calculate Area Of Rectangle.\n"
     ]
    },
    {
     "name": "stdin",
     "output_type": "stream",
     "text": [
      "Enter length of rectangle:  10\n",
      "Enter width of rectangle:  15\n"
     ]
    },
    {
     "name": "stdout",
     "output_type": "stream",
     "text": [
      "Area of rectangle is  150\n"
     ]
    }
   ],
   "source": [
    "''' 2. Create a program that calculates the area of a rectangle.\n",
    "Take the length and width as inputs from the user and store them in variables. Calculate and display the area.'''\n",
    "\n",
    "print(\"Calculate Area Of Rectangle.\")\n",
    "\n",
    "l = int(input(\"Enter length of rectangle: \"))\n",
    "w = int(input(\"Enter width of rectangle: \"))\n",
    "\n",
    "area = l*w\n",
    "\n",
    "print(\"Area of rectangle is \", area)"
   ]
  },
  {
   "cell_type": "code",
   "execution_count": 3,
   "id": "404f2b2c-e266-48e9-baff-6d5b859864ff",
   "metadata": {},
   "outputs": [
    {
     "name": "stdout",
     "output_type": "stream",
     "text": [
      "Convert tempratures fron celsius to fahrenheit.\n"
     ]
    },
    {
     "name": "stdin",
     "output_type": "stream",
     "text": [
      "Enter temprature in celsius:  10\n"
     ]
    },
    {
     "name": "stdout",
     "output_type": "stream",
     "text": [
      "Fahrenheit temprature is:  50.0 F\n"
     ]
    }
   ],
   "source": [
    "''' 3. Write a Python program that converts temperatures from Celsius to\n",
    "Fahrenheit. Take the temperature in Celsius as input, store it in a variable,\n",
    "convert it to Fahrenheit, and display the result. '''\n",
    "\n",
    "print(\"Convert tempratures fron celsius to fahrenheit.\")\n",
    "\n",
    "celsius = float(input(\"Enter temprature in celsius: \"))\n",
    "fahrenheit = (celsius * 9/5) + 32 \n",
    "\n",
    "print(\"Fahrenheit temprature is: \", fahrenheit, \"F\")"
   ]
  },
  {
   "cell_type": "code",
   "execution_count": 4,
   "id": "8213d5a8-a12d-443c-9a5d-de45356b03af",
   "metadata": {},
   "outputs": [
    {
     "name": "stdout",
     "output_type": "stream",
     "text": [
      "Calculate length of string.\n"
     ]
    },
    {
     "name": "stdin",
     "output_type": "stream",
     "text": [
      "Enter your string:  This Is Himanshu\n"
     ]
    },
    {
     "name": "stdout",
     "output_type": "stream",
     "text": [
      "Length of string is:  16\n"
     ]
    }
   ],
   "source": [
    "# TOPIC: String Based Questions\n",
    "\n",
    "'''1. Write a Python program that takes a string as input and prints the length of\n",
    "the string.'''\n",
    "\n",
    "print(\"Calculate length of string.\")\n",
    "\n",
    "string=input(\"Enter your string: \")\n",
    "length = len(string)\n",
    "\n",
    "print(\"Length of string is: \", length)"
   ]
  },
  {
   "cell_type": "code",
   "execution_count": 5,
   "id": "468f9e31-cea2-4015-aa29-aaee79bd09bb",
   "metadata": {},
   "outputs": [
    {
     "name": "stdout",
     "output_type": "stream",
     "text": [
      "Calculate vowel count in string.\n"
     ]
    },
    {
     "name": "stdin",
     "output_type": "stream",
     "text": [
      "Enter your string:  himanshu\n"
     ]
    },
    {
     "name": "stdout",
     "output_type": "stream",
     "text": [
      "vowel count in string is: 3\n"
     ]
    }
   ],
   "source": [
    "# TOPIC: String Based Questions\n",
    "'''2. Create a program that takes a sentence from the user and counts the number\n",
    "of vowels (a, e, i, o, u) in the string.'''\n",
    "\n",
    "print(\"Calculate vowel count in string.\")\n",
    "\n",
    "string=input(\"Enter your string: \")\n",
    "a = string.count(\"a\")\n",
    "e = string.count(\"e\")\n",
    "i = string.count(\"i\")\n",
    "o = string.count(\"o\")\n",
    "u = string.count(\"u\")\n",
    "vowel = a+e+i+o+u\n",
    "print(\"vowel count in string is:\", vowel)"
   ]
  },
  {
   "cell_type": "code",
   "execution_count": 6,
   "id": "3155c642-b08b-41ab-8a14-a22906ad6145",
   "metadata": {},
   "outputs": [
    {
     "name": "stdout",
     "output_type": "stream",
     "text": [
      "Reveres Your String\n"
     ]
    },
    {
     "name": "stdin",
     "output_type": "stream",
     "text": [
      "Enter String: Hello World\n"
     ]
    },
    {
     "name": "stdout",
     "output_type": "stream",
     "text": [
      "Actual string: Hello World\n",
      "Reveresed String: dlroW olleH\n"
     ]
    }
   ],
   "source": [
    "# TOPIC: String Based Questions\n",
    "'''3. Given a string, reverse the order of characters using string slicing and print\n",
    "the reversed string. '''\n",
    "\n",
    "print(\"Reveres Your String\")\n",
    "\n",
    "string = input(\"Enter String:\")\n",
    "reversed_string = string[::-1]\n",
    "\n",
    "print(\"Actual string:\",string)\n",
    "print(\"Reveresed String:\",reversed_string)"
   ]
  },
  {
   "cell_type": "code",
   "execution_count": 12,
   "id": "1f15560d-64b5-4593-a86e-707059180b00",
   "metadata": {},
   "outputs": [
    {
     "name": "stdout",
     "output_type": "stream",
     "text": [
      "Check String Is Palindrome Or Not\n"
     ]
    },
    {
     "name": "stdin",
     "output_type": "stream",
     "text": [
      "Enter a string to check palindrome:  M a l A y a L a m\n"
     ]
    },
    {
     "name": "stdout",
     "output_type": "stream",
     "text": [
      "String is a palindrome.\n"
     ]
    }
   ],
   "source": [
    "# TOPIC: String Based Questions\n",
    "'''4. Write a program that takes a string as input and checks if it is a palindrome\n",
    "(reads the same forwards and backwards).'''\n",
    "\n",
    "print (\"Check String Is Palindrome Or Not\")\n",
    "\n",
    "string = input(\"Enter a string to check palindrome: \")\n",
    "\n",
    "def palindrome(string):\n",
    "    clear_string = string.split()\n",
    "    clear_string = string.lower()\n",
    "    return clear_string == clear_string[::-1]\n",
    "\n",
    "if palindrome(string):\n",
    "    print(\"String is a palindrome.\")\n",
    "else:\n",
    "    print(\"String is not a palindrome.\")"
   ]
  },
  {
   "cell_type": "code",
   "execution_count": 13,
   "id": "2c406ee3-5875-420b-ab5b-38984202bad5",
   "metadata": {},
   "outputs": [
    {
     "name": "stdout",
     "output_type": "stream",
     "text": [
      "Remove Spaces From String\n"
     ]
    },
    {
     "name": "stdin",
     "output_type": "stream",
     "text": [
      "Enter String With Space: Python Is Just Awsome\n"
     ]
    },
    {
     "name": "stdout",
     "output_type": "stream",
     "text": [
      "String Without Space: PythonIsJustAwsome\n"
     ]
    }
   ],
   "source": [
    "# TOPIC: String Based Questions\n",
    "'''5. Create a program that takes a string as input and removes all the spaces from\n",
    "it. Print the modified string without spaces.'''\n",
    "\n",
    "print(\"Remove Spaces From String\")\n",
    "\n",
    "string = input(\"Enter String With Space:\")\n",
    "string_ws = string.replace(\" \",\"\")\n",
    "\n",
    "print(\"String Without Space:\",string_ws)"
   ]
  },
  {
   "cell_type": "code",
   "execution_count": null,
   "id": "da28c8e9-24ec-4222-8742-9383604de425",
   "metadata": {},
   "outputs": [],
   "source": []
  }
 ],
 "metadata": {
  "kernelspec": {
   "display_name": "Python 3 (ipykernel)",
   "language": "python",
   "name": "python3"
  },
  "language_info": {
   "codemirror_mode": {
    "name": "ipython",
    "version": 3
   },
   "file_extension": ".py",
   "mimetype": "text/x-python",
   "name": "python",
   "nbconvert_exporter": "python",
   "pygments_lexer": "ipython3",
   "version": "3.10.8"
  }
 },
 "nbformat": 4,
 "nbformat_minor": 5
}
